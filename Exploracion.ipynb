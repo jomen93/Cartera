{
 "cells": [
  {
   "cell_type": "markdown",
   "id": "7f2c7046-eef6-461c-9fa0-48be09ffe169",
   "metadata": {},
   "source": [
    "# Analisis de variables \n",
    "\n",
    "En este cuaderno se explora que variables se tienen, esto con el objetivo de poder identificar modelo que se ajusten a las necesidades de predicción. En primer lugar se hace la carga de datos desde un archivo binario que se obtiene de una petición SQL hecha anteriormente"
   ]
  },
  {
   "cell_type": "code",
   "execution_count": 2,
   "id": "ea350580-bc71-48c3-98a7-b644266ab4f2",
   "metadata": {},
   "outputs": [
    {
     "name": "stderr",
     "output_type": "stream",
     "text": [
      "Using TensorFlow backend.\n"
     ]
    }
   ],
   "source": [
    "import pickle5 as pickle\n",
    "import pandas as pd\n",
    "import numpy as np\n",
    "import matplotlib.pyplot as plt\n",
    "import matplotlib.dates as mdates\n",
    "\n",
    "from keras.models import Sequential\n",
    "from keras.layers import Dense\n",
    "from keras.layers import LSTM\n",
    "from keras.layers import Dropout\n",
    "\n",
    "import os\n",
    "os.environ['KMP_DUPLICATE_LIB_OK']='True'"
   ]
  },
  {
   "cell_type": "code",
   "execution_count": 3,
   "id": "6d58052d-d0e3-4b0b-8a09-adabf5353863",
   "metadata": {},
   "outputs": [],
   "source": [
    "filename = \"data.ftr\"\n",
    "\n",
    "with open(filename, \"rb\") as fh:\n",
    "    data = pickle.load(fh)\n",
    "    \n",
    "data = pd.DataFrame(data)"
   ]
  },
  {
   "cell_type": "markdown",
   "id": "5a43c928-f285-4ab7-8d65-f6bc5d77e911",
   "metadata": {},
   "source": [
    "## Construcción de serie temporal binaria\n",
    "\n",
    "Para hacer una predicción inicial del modelo se pretende adoptar la columna de datos de __FECHA PAGO__ y convertirla en una serie binaria, para de esta manera tratar de hacer una predicción a futuro de la fecha de pago. \n",
    "\n",
    "Veamos como se distribuye el pago de un producto a través del tiempo, para esto se construye una función del tiempo que permita ver el comportamiento , veamos cuantos productos se tiene en la base de datos "
   ]
  },
  {
   "cell_type": "code",
   "execution_count": 4,
   "id": "6d72e2b7-2c93-44cb-81ca-be3201a020cb",
   "metadata": {},
   "outputs": [
    {
     "name": "stdout",
     "output_type": "stream",
     "text": [
      "Numero de productos existentes en la base de datos = 7230\n"
     ]
    }
   ],
   "source": [
    "n_products = len(data[\"ID_CONTRATO\"].value_counts())\n",
    "print(\"Numero de productos existentes en la base de datos = {}\".format(n_products))"
   ]
  },
  {
   "cell_type": "markdown",
   "id": "2deafaf6-1e29-4421-b7d2-42c18163125c",
   "metadata": {},
   "source": [
    "Para poder hacer un estudio se elige un producto al azar de los encontrados anteriormente"
   ]
  },
  {
   "cell_type": "code",
   "execution_count": 5,
   "id": "0ea13b21-2602-4811-ab67-46b5b8f455d1",
   "metadata": {},
   "outputs": [
    {
     "name": "stdout",
     "output_type": "stream",
     "text": [
      "Producto seleccionado = 9556.0\n"
     ]
    }
   ],
   "source": [
    "producto_x = data[\"ID_CONTRATO\"].value_counts().index[10]\n",
    "print(\"Producto seleccionado = {}\".format(producto_x))"
   ]
  },
  {
   "cell_type": "markdown",
   "id": "0c23e5a1-1983-45c2-8d7d-12326e29cb07",
   "metadata": {},
   "source": [
    "Se hace un filtro por producto para elegir las fechas en las cual se tiene el pago del producto seleccionado "
   ]
  },
  {
   "cell_type": "code",
   "execution_count": 6,
   "id": "4c3f4a85-ebf6-445b-b56b-7c0e1324faa1",
   "metadata": {},
   "outputs": [
    {
     "data": {
      "text/plain": [
       "2363     2020-04-01\n",
       "2746     2018-11-24\n",
       "6554     2019-03-27\n",
       "11726    2019-05-27\n",
       "12080    2019-06-29\n",
       "            ...    \n",
       "163825   2019-02-23\n",
       "170998   2019-10-29\n",
       "175686   2020-01-29\n",
       "181863   2014-03-03\n",
       "182549   2012-12-05\n",
       "Name: FECHA_PAGO, Length: 94, dtype: datetime64[ns]"
      ]
     },
     "execution_count": 6,
     "metadata": {},
     "output_type": "execute_result"
    }
   ],
   "source": [
    "fecha_pago = data[\"FECHA_PAGO\"][data[\"ID_CONTRATO\"]==producto_x]\n",
    "fecha_pago = pd.to_datetime(fecha_pago)\n",
    "fecha_pago"
   ]
  },
  {
   "cell_type": "markdown",
   "id": "944ca6dc-02b8-46db-841e-d8feade53fa9",
   "metadata": {},
   "source": [
    "Para ver como es el comportamiento de pago se hace una linea de tiempo y anotar con in indicar en el momento en el que el cliente realiza el pago "
   ]
  },
  {
   "cell_type": "code",
   "execution_count": 7,
   "id": "3b1ef7b0-72ff-41b7-aeaa-47056bf7c75b",
   "metadata": {},
   "outputs": [
    {
     "data": {
      "image/png": "[encoded data removed]",
      "text/plain": [
       "<Figure size 633.6x288 with 1 Axes>"
      ]
     },
     "metadata": {
      "needs_background": "light"
     },
     "output_type": "display_data"
    }
   ],
   "source": [
    "name_pay = [\"pago \"+str(i) for i in range(1, len(fecha_pago))]\n",
    "levels = np.tile([5], int(np.ceil(len(fecha_pago)/6)))[:len(fecha_pago)]\n",
    "\n",
    "# Create figure\n",
    "fig, ax = plt.subplots(figsize=(8.8, 4), constrained_layout=True)\n",
    "# put title\n",
    "ax.set(title=\"Histórico Pagos\")\n",
    "ax.plot(fecha_pago, np.zeros_like(fecha_pago), \"ro\",\n",
    "        color=\"k\", markerfacecolor=\"g\")  \n",
    "\n",
    "ax.xaxis.set_major_locator(mdates.MonthLocator(interval=6))\n",
    "ax.xaxis.set_major_formatter(mdates.DateFormatter(\"%b %Y\"))\n",
    "plt.setp(ax.get_xticklabels(), rotation=30, ha=\"right\")\n",
    "\n",
    "# remove y axis and spines\n",
    "ax.yaxis.set_visible(False)\n",
    "ax.spines[\"left\"].set_visible(False)\n",
    "ax.spines[\"top\"].set_visible(False)\n",
    "ax.spines[\"right\"].set_visible(False)\n",
    "\n",
    "\n"
   ]
  },
  {
   "cell_type": "markdown",
   "id": "95355820-b37a-4f32-8592-bd14f8010393",
   "metadata": {},
   "source": [
    "La intención del programa será predecir en que fecha se realizará el siguiente pago, en simples terminos, en que momento del tiempo se ubicará el siguiente punto verde. Sin embargo aún faltan anotar todas las fechas completas para conmesurar y tener los datos de cada cuanto se hace el pago. Se crea un vector que contenga todos lops días desde el inicio del primer pago, hasta el ultimo registrado "
   ]
  },
  {
   "cell_type": "code",
   "execution_count": 8,
   "id": "59a4a445-846b-42b1-8537-bfefa279568e",
   "metadata": {},
   "outputs": [
    {
     "name": "stdout",
     "output_type": "stream",
     "text": [
      "Dias de vida del producto = 2829\n",
      "Pago hechos = 94\n"
     ]
    }
   ],
   "source": [
    "first_pay = fecha_pago.min()\n",
    "last_pay  = fecha_pago.max() \n",
    "time_product = pd.date_range(first_pay, last_pay)\n",
    "print(\"Dias de vida del producto = {}\".format(len(time_product)))\n",
    "print(\"Pago hechos = {}\".format(len(fecha_pago)))"
   ]
  },
  {
   "cell_type": "markdown",
   "id": "886551a6-e062-4bf3-9381-2f6bb1038396",
   "metadata": {},
   "source": [
    "para poder evidenciar el pago, se debe crear un vector que registre cuando se hizo el pago y cuando no para tener claridad. Esto se hace creando un vector lleno de ceros y nada mas asigando uno cuando se tenga una fecha de pago. Adicional a esto se hace un mapeo de la fechas a un vector de etiquetas, es decir, se crea un vector alternativo que registra las fechas con numeros. Por ejemplo a la primera fecha registrada se le asigna el valor 1, a la siguiente el 2 y asi sucesivamente hasta completar los d'ias registrados en la base de datos "
   ]
  },
  {
   "cell_type": "code",
   "execution_count": 9,
   "id": "92c10633-7006-4218-9ea5-2b291faab18e",
   "metadata": {},
   "outputs": [
    {
     "data": {
      "image/png": "[encoded data removed]",
      "text/plain": [
       "<Figure size 1224x216 with 1 Axes>"
      ]
     },
     "metadata": {
      "needs_background": "light"
     },
     "output_type": "display_data"
    }
   ],
   "source": [
    "# vector de ceros \n",
    "pagos = np.zeros(len(time_product))\n",
    "#vector de etiqueta de tiempo \n",
    "labels_time = np.arange(len(time_product))\n",
    "# se identifican las fechas de pago dentro del vector de tiempo de vida del producto\n",
    "for i in range(len(fecha_pago)):\n",
    "    index_to_replace = np.where(time_product == fecha_pago.iloc[i])\n",
    "    pagos[index_to_replace] = 1\n",
    "\n",
    "fig, ax = plt.subplots(figsize=(17, 3), constrained_layout=True)\n",
    "ax.set(title=\"Comportamiento Pago en el tiempo\")\n",
    "ax.plot(labels_time, pagos, \"ro\", color=\"k\", markerfacecolor=\"g\", markersize=4)\n",
    "ax.xaxis.set_major_locator(mdates.MonthLocator(interval=6))\n",
    "ax.set_xlabel(\"Tiempo[días]\")\n",
    "ax.set_ylabel(\"Pago\")\n",
    "plt.grid(True)"
   ]
  },
  {
   "cell_type": "markdown",
   "id": "d736bca8-c213-4843-85a4-cf5a028c6ae6",
   "metadata": {},
   "source": [
    "En el orden de hacer la predicción se quiere hacer un forecasting de una serie de tiempo binaria, que me prediga el dia siguiente de pago teniendo en cuenta toda la historia anterior del comportamiento de este producto, respecto del día cero del producto. Para poder hacer testeo se requiere separar los últimos 30 días de pago como conjunto de validación. "
   ]
  },
  {
   "cell_type": "code",
   "execution_count": 10,
   "id": "6349bcc1-07bf-4506-bbef-c2914fd53174",
   "metadata": {},
   "outputs": [],
   "source": [
    "test_size = 30\n",
    "\n",
    "labels_time_train = labels_time[:-test_size]\n",
    "pagos_train = pagos[:-test_size]\n",
    "labels_time_test = labels_time[-test_size:]\n",
    "pagos_test = pagos[-test_size:]"
   ]
  },
  {
   "cell_type": "markdown",
   "id": "f84da29f-7b0b-4bfc-908c-592d5cdbba30",
   "metadata": {},
   "source": [
    "# Regresión con redes neuronales LSTM (Long Short-Term Memory Network)\n",
    "\n",
    "Tipo de red neuronal recurrente capaz de recordar la información pasada al predecir valores futuros, este tipo de arquitectura tiene en cuenta la información pasada.\n",
    "\n",
    "\n",
    "Para iniciar se debe tener en cuenta que en un problema de series temporales se tiene que predecir un valor en el tiempo $t$, basado en los días pasados $tN$ donde $N$ puede ser cualquier número de pasos. Se va a predecir el día de pago. Se van a probar diferentes pasos de tiempos para tratar de construir el mejor modelo posible.\n",
    "\n",
    "Se crea entonces los conjuntos de datos necesarios para entrenar el modelo. El conjunto de características debe contener los valores \n",
    "\n"
   ]
  },
  {
   "cell_type": "code",
   "execution_count": 11,
   "id": "b85f8d11-fe19-41b6-b47c-af9cb883247a",
   "metadata": {},
   "outputs": [
    {
     "data": {
      "text/plain": [
       "(30, 2769)"
      ]
     },
     "execution_count": 11,
     "metadata": {},
     "output_type": "execute_result"
    }
   ],
   "source": [
    "features_set = list()\n",
    "labels = list()\n",
    "\n",
    "Nt = len(pagos_train)- test_size\n",
    "\n",
    "for i in range(Nt, len(pagos_train)):\n",
    "    features_set.append(pagos_train[i-Nt:i])\n",
    "    labels.append(pagos_train[i])\n",
    "\n",
    "features_set, labels = np.array(features_set), np.array(labels)\n",
    "features_set.shape"
   ]
  },
  {
   "cell_type": "markdown",
   "id": "53c286a9-bf3e-4fa2-a834-6d17b8286884",
   "metadata": {},
   "source": [
    "Para entrenar la red LSTM a pattir de estos datos, se necesita convertir los datos a una forma que la red Neuronal entienda. Esto es un tensor , un formato de matrices tridimensional. La primera dimensión es el número de registros o filas en el conjunto de datos "
   ]
  },
  {
   "cell_type": "code",
   "execution_count": 12,
   "id": "4eb52de6-df5a-48bc-bb09-865afb97bb81",
   "metadata": {},
   "outputs": [
    {
     "data": {
      "text/plain": [
       "(30, 2769, 1)"
      ]
     },
     "execution_count": 12,
     "metadata": {},
     "output_type": "execute_result"
    }
   ],
   "source": [
    "features_set = np.reshape(features_set, (features_set.shape[0], features_set.shape[1], 1))\n",
    "features_set.shape"
   ]
  },
  {
   "cell_type": "markdown",
   "id": "41792c2a-367e-4778-b5e6-58cb36e506c1",
   "metadata": {},
   "source": [
    "Se han redimensionado los datos, en este momento se propone el modelo LSTM. El modelo que se va a crear es un modelo secuencial con múltiples capas, en principio se agregan cuatro capas LSTM al modelo seguida de una capa densa que predice el día futuro de pago."
   ]
  },
  {
   "cell_type": "code",
   "execution_count": 13,
   "id": "873260b4-46e7-435c-85cd-b5381b1b674d",
   "metadata": {},
   "outputs": [],
   "source": [
    "model = Sequential()\n",
    "model.add(LSTM(units=2, return_sequences=True, input_shape=(features_set.shape[1], 1)))\n",
    "model.add(Dropout(0.2))\n",
    "model.add(LSTM(units=4, return_sequences=True))\n",
    "model.add(Dropout(0.2))\n",
    "model.add(LSTM(units=6, return_sequences=True))\n",
    "model.add(Dropout(0.2))\n",
    "model.add(LSTM(units=8))\n",
    "model.add(Dropout(0.2))\n",
    "model.add(Dense(units = 1, activation=\"sigmoid\"))"
   ]
  },
  {
   "cell_type": "markdown",
   "id": "0d048416-7d55-4776-b3c0-f92285c35d4f",
   "metadata": {},
   "source": [
    "Ahora se compila el modelo, Se utiliza como función de pérdida el error medio cuadrado\n",
    "\n",
    "$$ECM = \\frac{1}{n}\\sum^{n}_{i=1}(\\hat{y}_{i}-y_{i})$$\n"
   ]
  },
  {
   "cell_type": "code",
   "execution_count": 14,
   "id": "d00b2203-0f09-407b-9af8-62e94cf55709",
   "metadata": {},
   "outputs": [],
   "source": [
    "model.compile(optimizer=\"adam\", loss=\"binary_crossentropy\", metrics=['accuracy'])\n"
   ]
  },
  {
   "cell_type": "markdown",
   "id": "6e985d25-ade7-4d30-8f64-d1f0ed848283",
   "metadata": {},
   "source": [
    "Ahora es el momento del entrenamiento del modelo que se definió anteriormente. Se hace una prueba para ver que tanto se demora el modelo "
   ]
  },
  {
   "cell_type": "code",
   "execution_count": 15,
   "id": "c663548d-bac3-459d-9e9a-e683a7ed05fe",
   "metadata": {},
   "outputs": [
    {
     "name": "stdout",
     "output_type": "stream",
     "text": [
      "Epoch 1/10\n",
      "30/30 [==============================] - 13s 420ms/step - loss: 0.6944 - accuracy: 0.1333\n",
      "Epoch 2/10\n",
      "30/30 [==============================] - 9s 296ms/step - loss: 0.6909 - accuracy: 0.9000\n",
      "Epoch 3/10\n",
      "30/30 [==============================] - 9s 297ms/step - loss: 0.6868 - accuracy: 1.0000\n",
      "Epoch 4/10\n",
      "30/30 [==============================] - 9s 296ms/step - loss: 0.6830 - accuracy: 1.0000\n",
      "Epoch 5/10\n",
      "30/30 [==============================] - 9s 297ms/step - loss: 0.6802 - accuracy: 1.0000\n",
      "Epoch 6/10\n",
      "30/30 [==============================] - 9s 299ms/step - loss: 0.6755 - accuracy: 1.0000\n",
      "Epoch 7/10\n",
      "30/30 [==============================] - 9s 299ms/step - loss: 0.6706 - accuracy: 1.0000\n",
      "Epoch 8/10\n",
      "30/30 [==============================] - 9s 299ms/step - loss: 0.6683 - accuracy: 1.0000\n",
      "Epoch 9/10\n",
      "30/30 [==============================] - 9s 304ms/step - loss: 0.6639 - accuracy: 1.0000\n",
      "Epoch 10/10\n",
      "30/30 [==============================] - 9s 305ms/step - loss: 0.6584 - accuracy: 1.0000\n"
     ]
    },
    {
     "data": {
      "text/plain": [
       "<keras.callbacks.callbacks.History at 0x7fd4857d0f60>"
      ]
     },
     "execution_count": 15,
     "metadata": {},
     "output_type": "execute_result"
    }
   ],
   "source": [
    "model.fit(features_set, labels, epochs = 10, batch_size = 64)\n"
   ]
  },
  {
   "cell_type": "markdown",
   "id": "dc4cb67c-03e9-4e6d-bb8b-6b39a55824dd",
   "metadata": {},
   "source": [
    "Una vez entrenado el modelo LSTM, es el momento de probar el rendimiento de nuestro algoritmo en el conjunto de prueba al predecir los precios de pago en el siguiente mes, es decir, 30 días después del último día registrado en el conjunto de entrenamiento. Para cada día del mes siguiente que queremos predecir se debe tener los 120 días anteriores. Entonces se deben concatenar los datos de validación y de entrenamiento. \n",
    "\n",
    "Es importante anotar que para esta etapa de desarrollo se tienen los datos consignados en las variables iniciales de lectura, de otra manera si se tienen datos de testeo independientes se deben concatenar para tener el conjunto de datos completo y poder hacer la preparación adecuadoa para someter al modelo.\n",
    "\n",
    "Ahora se prepara las entradas al modelo de prueba. La entrada para cada día debe contener los datos de pago de 120 días anteriores y los 30 datos para la predicción, se constuye el vector con estos 150 valores"
   ]
  },
  {
   "cell_type": "code",
   "execution_count": 16,
   "id": "e7bab8f8-f653-4e8d-93a6-eb03b73a5b2d",
   "metadata": {},
   "outputs": [],
   "source": [
    "test_inputs = pagos[len(pagos) - len(pagos_test) - Nt:]\n",
    "test_inputs = test_inputs.reshape(-1,1)\n"
   ]
  },
  {
   "cell_type": "code",
   "execution_count": 17,
   "id": "93da51d0-fb8e-4dbd-bc1f-cc1638ee8bb4",
   "metadata": {},
   "outputs": [],
   "source": [
    "test_features = list()\n",
    "for i in range(Nt, Nt+test_size):\n",
    "    test_features.append(test_inputs[i-Nt:i])\n",
    "\n",
    "test_features = np.array(test_features)\n",
    "test_features = np.reshape(test_features, (test_features.shape[0], test_features.shape[1], 1))"
   ]
  },
  {
   "cell_type": "code",
   "execution_count": 18,
   "id": "7f2f00d3-9f39-4d47-8b54-ba0e9e3f926d",
   "metadata": {},
   "outputs": [],
   "source": [
    "predictions = model.predict_proba(test_features)"
   ]
  },
  {
   "cell_type": "code",
   "execution_count": 19,
   "id": "316f44de-7148-4d4b-9625-b521e1f4162e",
   "metadata": {},
   "outputs": [
    {
     "data": {
      "text/plain": [
       "<matplotlib.legend.Legend at 0x7fd485661208>"
      ]
     },
     "execution_count": 19,
     "metadata": {},
     "output_type": "execute_result"
    },
    {
     "data": {
      "image/png": "[encoded data removed]",
      "text/plain": [
       "<Figure size 1080x360 with 1 Axes>"
      ]
     },
     "metadata": {
      "needs_background": "light"
     },
     "output_type": "display_data"
    }
   ],
   "source": [
    "fig, ax = plt.subplots(figsize=(15, 5), constrained_layout=True)\n",
    "plt.plot(predictions, \"b-\")\n",
    "plt.plot(predictions, \"b.\", label = \"Día más probable de pago = {}\".format(np.argmax(predictions)))\n",
    "plt.title(\"Predicción de pago\")\n",
    "plt.xlabel(\"Tiempo[Día]\")\n",
    "plt.ylabel(\"Probabilidad[En revisión]\")\n",
    "plt.grid(True)\n",
    "plt.legend()"
   ]
  },
  {
   "cell_type": "code",
   "execution_count": 20,
   "id": "564ef4e2-951d-40d2-a60d-d0cf93bdb6b0",
   "metadata": {},
   "outputs": [
    {
     "data": {
      "text/plain": [
       "array([   0,    1,    2, ..., 2796, 2797, 2798])"
      ]
     },
     "execution_count": 20,
     "metadata": {},
     "output_type": "execute_result"
    }
   ],
   "source": [
    "labels_time_train"
   ]
  },
  {
   "cell_type": "code",
   "execution_count": 21,
   "id": "9453f9d2-6821-4569-bfd2-d85776004747",
   "metadata": {},
   "outputs": [
    {
     "data": {
      "text/plain": [
       "array([[0.4804072 ],\n",
       "       [0.4804018 ],\n",
       "       [0.48039728],\n",
       "       [0.48039347],\n",
       "       [0.48039034],\n",
       "       [0.48057085],\n",
       "       [0.48085365],\n",
       "       [0.48113492],\n",
       "       [0.48134932],\n",
       "       [0.48147282],\n",
       "       [0.48150954],\n",
       "       [0.48147783],\n",
       "       [0.48140025],\n",
       "       [0.48129764],\n",
       "       [0.48118645],\n",
       "       [0.48107806],\n",
       "       [0.48097938],\n",
       "       [0.4808936 ],\n",
       "       [0.48082152],\n",
       "       [0.48076218],\n",
       "       [0.48071384],\n",
       "       [0.48067445],\n",
       "       [0.480642  ],\n",
       "       [0.48061466],\n",
       "       [0.4805911 ],\n",
       "       [0.4805701 ],\n",
       "       [0.48055103],\n",
       "       [0.48053336],\n",
       "       [0.48051676],\n",
       "       [0.48050123]], dtype=float32)"
      ]
     },
     "execution_count": 21,
     "metadata": {},
     "output_type": "execute_result"
    }
   ],
   "source": [
    "predictions"
   ]
  },
  {
   "cell_type": "code",
   "execution_count": null,
   "id": "3b70d82a-e433-40bc-93c5-04933149b1aa",
   "metadata": {},
   "outputs": [],
   "source": []
  },
  {
   "cell_type": "code",
   "execution_count": null,
   "id": "7a46eecc-912f-420c-be39-6f9fe938b7cb",
   "metadata": {},
   "outputs": [],
   "source": []
  },
  {
   "cell_type": "code",
   "execution_count": null,
   "id": "9c550e90-07f6-4500-be4a-de75c3ec63f4",
   "metadata": {},
   "outputs": [],
   "source": []
  },
  {
   "cell_type": "code",
   "execution_count": null,
   "id": "6cd93686-8a0d-4cd9-aaf3-5fa5afba22a8",
   "metadata": {},
   "outputs": [],
   "source": []
  },
  {
   "cell_type": "code",
   "execution_count": null,
   "id": "377e1ed2-13c6-468e-aa05-7a20cae3b0a2",
   "metadata": {},
   "outputs": [],
   "source": []
  }
 ],
 "metadata": {
  "kernelspec": {
   "display_name": "Python 3",
   "language": "python",
   "name": "python3"
  },
  "language_info": {
   "codemirror_mode": {
    "name": "ipython",
    "version": 3
   },
   "file_extension": ".py",
   "mimetype": "text/x-python",
   "name": "python",
   "nbconvert_exporter": "python",
   "pygments_lexer": "ipython3",
   "version": "3.6.13"
  }
 },
 "nbformat": 4,
 "nbformat_minor": 5
}
