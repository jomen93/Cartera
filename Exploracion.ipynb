{
 "cells": [
  {
   "cell_type": "markdown",
   "id": "7f2c7046-eef6-461c-9fa0-48be09ffe169",
   "metadata": {},
   "source": [
    "# Analisis de variables \n",
    "\n",
    "En este cuaderno se explora que variables se tienen, esto con el objetivo de poder identificar modelo que se ajusten a las necesidades de predicción. En primer lugar se hace la carga de datos desde un archivo binario que se obtiene de una petición SQL hecha anteriormente"
   ]
  },
  {
   "cell_type": "code",
   "execution_count": 119,
   "id": "ea350580-bc71-48c3-98a7-b644266ab4f2",
   "metadata": {},
   "outputs": [],
   "source": [
    "import pickle5 as pickle\n",
    "import pandas as pd\n",
    "import numpy as np\n",
    "import matplotlib.pyplot as plt\n",
    "import matplotlib.dates as mdates\n",
    "from scipy.signal import argrelextrema\n",
    "from datetime import timedelta\n",
    "import smtplib\n",
    "import ssl\n",
    "\n",
    "from keras.models import Sequential\n",
    "from keras.layers import Dense\n",
    "from keras.layers import LSTM\n",
    "from keras.layers import Dropout\n",
    "\n",
    "import os\n",
    "os.environ['KMP_DUPLICATE_LIB_OK']='True'"
   ]
  },
  {
   "cell_type": "code",
   "execution_count": 120,
   "id": "6d58052d-d0e3-4b0b-8a09-adabf5353863",
   "metadata": {},
   "outputs": [],
   "source": [
    "filename = \"data.ftr\"\n",
    "\n",
    "with open(filename, \"rb\") as fh:\n",
    "    data = pickle.load(fh)\n",
    "    \n",
    "data = pd.DataFrame(data)"
   ]
  },
  {
   "cell_type": "code",
   "execution_count": 121,
   "id": "a5c00d9c-6d47-48db-8b7a-6220463af7a0",
   "metadata": {},
   "outputs": [
    {
     "data": {
      "text/html": [
       "<div>\n",
       "<style scoped>\n",
       "    .dataframe tbody tr th:only-of-type {\n",
       "        vertical-align: middle;\n",
       "    }\n",
       "\n",
       "    .dataframe tbody tr th {\n",
       "        vertical-align: top;\n",
       "    }\n",
       "\n",
       "    .dataframe thead th {\n",
       "        text-align: right;\n",
       "    }\n",
       "</style>\n",
       "<table border=\"1\" class=\"dataframe\">\n",
       "  <thead>\n",
       "    <tr style=\"text-align: right;\">\n",
       "      <th></th>\n",
       "      <th>ID_FECHA_CONSULTADA</th>\n",
       "      <th>ANIO_CARTERA</th>\n",
       "      <th>MES_CARTERA</th>\n",
       "      <th>ANIOMES_CARTERA</th>\n",
       "      <th>NUMERO_CONTRATO</th>\n",
       "      <th>TIPO_IDENTIFICACION</th>\n",
       "      <th>IDENTIFICACION</th>\n",
       "      <th>SEXO</th>\n",
       "      <th>INGRESO</th>\n",
       "      <th>REPUTACION_CLIENTE</th>\n",
       "      <th>...</th>\n",
       "      <th>CANTIDAD_FACTURAS_CON_MORA</th>\n",
       "      <th>FECHA_REGISTRO_CARTERA</th>\n",
       "      <th>FECHA_COBRO</th>\n",
       "      <th>FECHA_PAGO</th>\n",
       "      <th>FECHA_RECAUDO</th>\n",
       "      <th>ID_CONTRATO</th>\n",
       "      <th>ID_CLIENTE</th>\n",
       "      <th>ID_GEOGRAFIA</th>\n",
       "      <th>ID_REGION_NATURAL</th>\n",
       "      <th>REGION</th>\n",
       "    </tr>\n",
       "  </thead>\n",
       "  <tbody>\n",
       "    <tr>\n",
       "      <th>0</th>\n",
       "      <td>20181201.0</td>\n",
       "      <td>2018</td>\n",
       "      <td>11</td>\n",
       "      <td>201811</td>\n",
       "      <td>758589809482</td>\n",
       "      <td>5</td>\n",
       "      <td>30567722</td>\n",
       "      <td>F</td>\n",
       "      <td>2454284.0</td>\n",
       "      <td>4.0</td>\n",
       "      <td>...</td>\n",
       "      <td>0.0</td>\n",
       "      <td>2018-11-23</td>\n",
       "      <td>2018-12-08</td>\n",
       "      <td>2018-11-26</td>\n",
       "      <td>2018-11-27</td>\n",
       "      <td>8689.0</td>\n",
       "      <td>3929.0</td>\n",
       "      <td>54670.0</td>\n",
       "      <td>2.0</td>\n",
       "      <td>Centro Oriente</td>\n",
       "    </tr>\n",
       "    <tr>\n",
       "      <th>1</th>\n",
       "      <td>20190101.0</td>\n",
       "      <td>2018</td>\n",
       "      <td>12</td>\n",
       "      <td>201812</td>\n",
       "      <td>830910315567</td>\n",
       "      <td>2</td>\n",
       "      <td>11642038</td>\n",
       "      <td>M</td>\n",
       "      <td>5492814.0</td>\n",
       "      <td>5.0</td>\n",
       "      <td>...</td>\n",
       "      <td>0.0</td>\n",
       "      <td>2018-12-23</td>\n",
       "      <td>2019-01-07</td>\n",
       "      <td>2018-12-27</td>\n",
       "      <td>2018-12-28</td>\n",
       "      <td>11372.0</td>\n",
       "      <td>5614.0</td>\n",
       "      <td>54670.0</td>\n",
       "      <td>2.0</td>\n",
       "      <td>Centro Oriente</td>\n",
       "    </tr>\n",
       "    <tr>\n",
       "      <th>2</th>\n",
       "      <td>20190101.0</td>\n",
       "      <td>2018</td>\n",
       "      <td>12</td>\n",
       "      <td>201812</td>\n",
       "      <td>915320322651</td>\n",
       "      <td>3</td>\n",
       "      <td>72850794</td>\n",
       "      <td>M</td>\n",
       "      <td>5946697.0</td>\n",
       "      <td>3.0</td>\n",
       "      <td>...</td>\n",
       "      <td>0.0</td>\n",
       "      <td>2018-12-23</td>\n",
       "      <td>2019-01-07</td>\n",
       "      <td>2018-12-24</td>\n",
       "      <td>2018-12-25</td>\n",
       "      <td>7070.0</td>\n",
       "      <td>6182.0</td>\n",
       "      <td>5480.0</td>\n",
       "      <td>4.0</td>\n",
       "      <td>Eje Cafetero - Antioquia</td>\n",
       "    </tr>\n",
       "    <tr>\n",
       "      <th>3</th>\n",
       "      <td>20190101.0</td>\n",
       "      <td>2018</td>\n",
       "      <td>12</td>\n",
       "      <td>201812</td>\n",
       "      <td>754486263805</td>\n",
       "      <td>5</td>\n",
       "      <td>71620041</td>\n",
       "      <td>F</td>\n",
       "      <td>5489184.0</td>\n",
       "      <td>5.0</td>\n",
       "      <td>...</td>\n",
       "      <td>0.0</td>\n",
       "      <td>2018-12-23</td>\n",
       "      <td>2019-01-07</td>\n",
       "      <td>2019-01-01</td>\n",
       "      <td>2019-01-02</td>\n",
       "      <td>10940.0</td>\n",
       "      <td>2145.0</td>\n",
       "      <td>5480.0</td>\n",
       "      <td>4.0</td>\n",
       "      <td>Eje Cafetero - Antioquia</td>\n",
       "    </tr>\n",
       "    <tr>\n",
       "      <th>4</th>\n",
       "      <td>20190201.0</td>\n",
       "      <td>2019</td>\n",
       "      <td>01</td>\n",
       "      <td>201901</td>\n",
       "      <td>482290887380</td>\n",
       "      <td>1</td>\n",
       "      <td>46788645</td>\n",
       "      <td>F</td>\n",
       "      <td>5005455.0</td>\n",
       "      <td>5.0</td>\n",
       "      <td>...</td>\n",
       "      <td>0.0</td>\n",
       "      <td>2019-01-23</td>\n",
       "      <td>2019-02-07</td>\n",
       "      <td>2019-01-27</td>\n",
       "      <td>2019-01-28</td>\n",
       "      <td>12811.0</td>\n",
       "      <td>3294.0</td>\n",
       "      <td>5040.0</td>\n",
       "      <td>4.0</td>\n",
       "      <td>Eje Cafetero - Antioquia</td>\n",
       "    </tr>\n",
       "    <tr>\n",
       "      <th>...</th>\n",
       "      <td>...</td>\n",
       "      <td>...</td>\n",
       "      <td>...</td>\n",
       "      <td>...</td>\n",
       "      <td>...</td>\n",
       "      <td>...</td>\n",
       "      <td>...</td>\n",
       "      <td>...</td>\n",
       "      <td>...</td>\n",
       "      <td>...</td>\n",
       "      <td>...</td>\n",
       "      <td>...</td>\n",
       "      <td>...</td>\n",
       "      <td>...</td>\n",
       "      <td>...</td>\n",
       "      <td>...</td>\n",
       "      <td>...</td>\n",
       "      <td>...</td>\n",
       "      <td>...</td>\n",
       "      <td>...</td>\n",
       "      <td>...</td>\n",
       "    </tr>\n",
       "    <tr>\n",
       "      <th>182774</th>\n",
       "      <td>20150801.0</td>\n",
       "      <td>2015</td>\n",
       "      <td>07</td>\n",
       "      <td>201507</td>\n",
       "      <td>396932713330</td>\n",
       "      <td>3</td>\n",
       "      <td>28314231</td>\n",
       "      <td>M</td>\n",
       "      <td>1806612.0</td>\n",
       "      <td>4.0</td>\n",
       "      <td>...</td>\n",
       "      <td>0.0</td>\n",
       "      <td>2015-07-23</td>\n",
       "      <td>2015-08-07</td>\n",
       "      <td>2015-07-25</td>\n",
       "      <td>2015-07-26</td>\n",
       "      <td>6678.0</td>\n",
       "      <td>10605.0</td>\n",
       "      <td>25426.0</td>\n",
       "      <td>2.0</td>\n",
       "      <td>Centro Oriente</td>\n",
       "    </tr>\n",
       "    <tr>\n",
       "      <th>182775</th>\n",
       "      <td>20150801.0</td>\n",
       "      <td>2015</td>\n",
       "      <td>07</td>\n",
       "      <td>201507</td>\n",
       "      <td>442296544038</td>\n",
       "      <td>4</td>\n",
       "      <td>78176770</td>\n",
       "      <td>M</td>\n",
       "      <td>609600.0</td>\n",
       "      <td>4.0</td>\n",
       "      <td>...</td>\n",
       "      <td>0.0</td>\n",
       "      <td>2015-07-23</td>\n",
       "      <td>2015-08-07</td>\n",
       "      <td>2015-07-23</td>\n",
       "      <td>2015-07-24</td>\n",
       "      <td>5952.0</td>\n",
       "      <td>8766.0</td>\n",
       "      <td>27205.0</td>\n",
       "      <td>6.0</td>\n",
       "      <td>Pacífico</td>\n",
       "    </tr>\n",
       "    <tr>\n",
       "      <th>182776</th>\n",
       "      <td>20150801.0</td>\n",
       "      <td>2015</td>\n",
       "      <td>07</td>\n",
       "      <td>201507</td>\n",
       "      <td>700030420895</td>\n",
       "      <td>1</td>\n",
       "      <td>68350115</td>\n",
       "      <td>M</td>\n",
       "      <td>2177628.0</td>\n",
       "      <td>5.0</td>\n",
       "      <td>...</td>\n",
       "      <td>0.0</td>\n",
       "      <td>2015-07-23</td>\n",
       "      <td>2015-08-07</td>\n",
       "      <td>2015-07-30</td>\n",
       "      <td>2015-07-31</td>\n",
       "      <td>12480.0</td>\n",
       "      <td>9006.0</td>\n",
       "      <td>81300.0</td>\n",
       "      <td>5.0</td>\n",
       "      <td>Llano</td>\n",
       "    </tr>\n",
       "    <tr>\n",
       "      <th>182777</th>\n",
       "      <td>20150801.0</td>\n",
       "      <td>2015</td>\n",
       "      <td>07</td>\n",
       "      <td>201507</td>\n",
       "      <td>919730907694</td>\n",
       "      <td>2</td>\n",
       "      <td>7059347</td>\n",
       "      <td>F</td>\n",
       "      <td>1539082.0</td>\n",
       "      <td>4.0</td>\n",
       "      <td>...</td>\n",
       "      <td>0.0</td>\n",
       "      <td>2015-07-23</td>\n",
       "      <td>2015-08-07</td>\n",
       "      <td>2015-08-04</td>\n",
       "      <td>2015-08-05</td>\n",
       "      <td>8604.0</td>\n",
       "      <td>797.0</td>\n",
       "      <td>52256.0</td>\n",
       "      <td>6.0</td>\n",
       "      <td>Pacífico</td>\n",
       "    </tr>\n",
       "    <tr>\n",
       "      <th>182778</th>\n",
       "      <td>20150801.0</td>\n",
       "      <td>2015</td>\n",
       "      <td>07</td>\n",
       "      <td>201507</td>\n",
       "      <td>616409509014</td>\n",
       "      <td>5</td>\n",
       "      <td>1361932</td>\n",
       "      <td>M</td>\n",
       "      <td>5817163.0</td>\n",
       "      <td>5.0</td>\n",
       "      <td>...</td>\n",
       "      <td>0.0</td>\n",
       "      <td>2015-07-23</td>\n",
       "      <td>2015-08-07</td>\n",
       "      <td>2015-07-27</td>\n",
       "      <td>2015-07-28</td>\n",
       "      <td>6128.0</td>\n",
       "      <td>4149.0</td>\n",
       "      <td>25851.0</td>\n",
       "      <td>2.0</td>\n",
       "      <td>Centro Oriente</td>\n",
       "    </tr>\n",
       "  </tbody>\n",
       "</table>\n",
       "<p>182779 rows × 38 columns</p>\n",
       "</div>"
      ],
      "text/plain": [
       "        ID_FECHA_CONSULTADA ANIO_CARTERA MES_CARTERA ANIOMES_CARTERA  \\\n",
       "0                20181201.0         2018          11          201811   \n",
       "1                20190101.0         2018          12          201812   \n",
       "2                20190101.0         2018          12          201812   \n",
       "3                20190101.0         2018          12          201812   \n",
       "4                20190201.0         2019          01          201901   \n",
       "...                     ...          ...         ...             ...   \n",
       "182774           20150801.0         2015          07          201507   \n",
       "182775           20150801.0         2015          07          201507   \n",
       "182776           20150801.0         2015          07          201507   \n",
       "182777           20150801.0         2015          07          201507   \n",
       "182778           20150801.0         2015          07          201507   \n",
       "\n",
       "       NUMERO_CONTRATO TIPO_IDENTIFICACION IDENTIFICACION SEXO    INGRESO  \\\n",
       "0         758589809482                   5       30567722    F  2454284.0   \n",
       "1         830910315567                   2       11642038    M  5492814.0   \n",
       "2         915320322651                   3       72850794    M  5946697.0   \n",
       "3         754486263805                   5       71620041    F  5489184.0   \n",
       "4         482290887380                   1       46788645    F  5005455.0   \n",
       "...                ...                 ...            ...  ...        ...   \n",
       "182774    396932713330                   3       28314231    M  1806612.0   \n",
       "182775    442296544038                   4       78176770    M   609600.0   \n",
       "182776    700030420895                   1       68350115    M  2177628.0   \n",
       "182777    919730907694                   2        7059347    F  1539082.0   \n",
       "182778    616409509014                   5        1361932    M  5817163.0   \n",
       "\n",
       "        REPUTACION_CLIENTE  ...  CANTIDAD_FACTURAS_CON_MORA  \\\n",
       "0                      4.0  ...                         0.0   \n",
       "1                      5.0  ...                         0.0   \n",
       "2                      3.0  ...                         0.0   \n",
       "3                      5.0  ...                         0.0   \n",
       "4                      5.0  ...                         0.0   \n",
       "...                    ...  ...                         ...   \n",
       "182774                 4.0  ...                         0.0   \n",
       "182775                 4.0  ...                         0.0   \n",
       "182776                 5.0  ...                         0.0   \n",
       "182777                 4.0  ...                         0.0   \n",
       "182778                 5.0  ...                         0.0   \n",
       "\n",
       "        FECHA_REGISTRO_CARTERA  FECHA_COBRO  FECHA_PAGO FECHA_RECAUDO  \\\n",
       "0                   2018-11-23   2018-12-08  2018-11-26    2018-11-27   \n",
       "1                   2018-12-23   2019-01-07  2018-12-27    2018-12-28   \n",
       "2                   2018-12-23   2019-01-07  2018-12-24    2018-12-25   \n",
       "3                   2018-12-23   2019-01-07  2019-01-01    2019-01-02   \n",
       "4                   2019-01-23   2019-02-07  2019-01-27    2019-01-28   \n",
       "...                        ...          ...         ...           ...   \n",
       "182774              2015-07-23   2015-08-07  2015-07-25    2015-07-26   \n",
       "182775              2015-07-23   2015-08-07  2015-07-23    2015-07-24   \n",
       "182776              2015-07-23   2015-08-07  2015-07-30    2015-07-31   \n",
       "182777              2015-07-23   2015-08-07  2015-08-04    2015-08-05   \n",
       "182778              2015-07-23   2015-08-07  2015-07-27    2015-07-28   \n",
       "\n",
       "       ID_CONTRATO ID_CLIENTE  ID_GEOGRAFIA  ID_REGION_NATURAL  \\\n",
       "0           8689.0     3929.0       54670.0                2.0   \n",
       "1          11372.0     5614.0       54670.0                2.0   \n",
       "2           7070.0     6182.0        5480.0                4.0   \n",
       "3          10940.0     2145.0        5480.0                4.0   \n",
       "4          12811.0     3294.0        5040.0                4.0   \n",
       "...            ...        ...           ...                ...   \n",
       "182774      6678.0    10605.0       25426.0                2.0   \n",
       "182775      5952.0     8766.0       27205.0                6.0   \n",
       "182776     12480.0     9006.0       81300.0                5.0   \n",
       "182777      8604.0      797.0       52256.0                6.0   \n",
       "182778      6128.0     4149.0       25851.0                2.0   \n",
       "\n",
       "                          REGION  \n",
       "0                 Centro Oriente  \n",
       "1                 Centro Oriente  \n",
       "2       Eje Cafetero - Antioquia  \n",
       "3       Eje Cafetero - Antioquia  \n",
       "4       Eje Cafetero - Antioquia  \n",
       "...                          ...  \n",
       "182774            Centro Oriente  \n",
       "182775                  Pacífico  \n",
       "182776                     Llano  \n",
       "182777                  Pacífico  \n",
       "182778            Centro Oriente  \n",
       "\n",
       "[182779 rows x 38 columns]"
      ]
     },
     "execution_count": 121,
     "metadata": {},
     "output_type": "execute_result"
    }
   ],
   "source": [
    "data"
   ]
  },
  {
   "cell_type": "markdown",
   "id": "5a43c928-f285-4ab7-8d65-f6bc5d77e911",
   "metadata": {},
   "source": [
    "## Construcción de serie temporal binaria\n",
    "\n",
    "Para hacer una predicción inicial del modelo se pretende adoptar la columna de datos de __FECHA PAGO__ y convertirla en una serie binaria, para de esta manera tratar de hacer una predicción a futuro de la fecha de pago. \n",
    "\n",
    "Veamos como se distribuye el pago de un producto a través del tiempo, para esto se construye una función del tiempo que permita ver el comportamiento , veamos cuantos productos se tiene en la base de datos "
   ]
  },
  {
   "cell_type": "code",
   "execution_count": 122,
   "id": "6d72e2b7-2c93-44cb-81ca-be3201a020cb",
   "metadata": {},
   "outputs": [
    {
     "name": "stdout",
     "output_type": "stream",
     "text": [
      "Numero de productos existentes en la base de datos = 7230\n"
     ]
    }
   ],
   "source": [
    "n_products = len(data[\"ID_CONTRATO\"].value_counts())\n",
    "print(\"Numero de productos existentes en la base de datos = {}\".format(n_products))"
   ]
  },
  {
   "cell_type": "markdown",
   "id": "2deafaf6-1e29-4421-b7d2-42c18163125c",
   "metadata": {},
   "source": [
    "Para poder hacer un estudio se elige un producto al azar de los encontrados anteriormente"
   ]
  },
  {
   "cell_type": "code",
   "execution_count": 123,
   "id": "0ea13b21-2602-4811-ab67-46b5b8f455d1",
   "metadata": {},
   "outputs": [
    {
     "name": "stdout",
     "output_type": "stream",
     "text": [
      "Producto seleccionado = 7748.0\n"
     ]
    }
   ],
   "source": [
    "producto_x = data[\"ID_CONTRATO\"].value_counts().index[3000]\n",
    "print(\"Producto seleccionado = {}\".format(producto_x))"
   ]
  },
  {
   "cell_type": "markdown",
   "id": "0c23e5a1-1983-45c2-8d7d-12326e29cb07",
   "metadata": {},
   "source": [
    "Se hace un filtro por producto para elegir las fechas en las cual se tiene el pago del producto seleccionado "
   ]
  },
  {
   "cell_type": "code",
   "execution_count": 124,
   "id": "4c3f4a85-ebf6-445b-b56b-7c0e1324faa1",
   "metadata": {},
   "outputs": [
    {
     "data": {
      "text/plain": [
       "5001     2019-03-07\n",
       "7399     2019-03-26\n",
       "9174     2019-04-28\n",
       "9993     2019-05-28\n",
       "14368    2019-09-30\n",
       "25474    2020-02-02\n",
       "25959    2019-11-23\n",
       "33358    2018-04-29\n",
       "58213    2018-12-29\n",
       "58261    2018-07-03\n",
       "68601    2018-07-25\n",
       "71887    2018-08-26\n",
       "79703    2019-12-31\n",
       "82052    2020-02-25\n",
       "103079   2020-04-05\n",
       "105344   2019-01-26\n",
       "111997   2018-05-28\n",
       "112379   2018-12-05\n",
       "132930   2018-10-02\n",
       "139284   2019-06-27\n",
       "140133   2019-08-03\n",
       "161434   2018-10-27\n",
       "170281   2019-08-28\n",
       "171414   2019-11-05\n",
       "Name: FECHA_PAGO, dtype: datetime64[ns]"
      ]
     },
     "execution_count": 124,
     "metadata": {},
     "output_type": "execute_result"
    }
   ],
   "source": [
    "fecha_pago = data[\"FECHA_PAGO\"][data[\"ID_CONTRATO\"]==producto_x]\n",
    "fecha_pago = pd.to_datetime(fecha_pago)\n",
    "fecha_pago"
   ]
  },
  {
   "cell_type": "markdown",
   "id": "944ca6dc-02b8-46db-841e-d8feade53fa9",
   "metadata": {},
   "source": [
    "Para ver como es el comportamiento de pago se hace una linea de tiempo y anotar con in indicar en el momento en el que el cliente realiza el pago "
   ]
  },
  {
   "cell_type": "code",
   "execution_count": 125,
   "id": "3b1ef7b0-72ff-41b7-aeaa-47056bf7c75b",
   "metadata": {},
   "outputs": [
    {
     "data": {
      "text/plain": [
       "<matplotlib.legend.Legend at 0x7f9f52d6f0f0>"
      ]
     },
     "execution_count": 125,
     "metadata": {},
     "output_type": "execute_result"
    },
    {
     "data": {
      "image/png": "[encoded data removed]",
      "text/plain": [
       "<Figure size 633.6x288 with 1 Axes>"
      ]
     },
     "metadata": {
      "needs_background": "light"
     },
     "output_type": "display_data"
    }
   ],
   "source": [
    "name_pay = [\"pago \"+str(i) for i in range(1, len(fecha_pago))]\n",
    "levels = np.tile([5], int(np.ceil(len(fecha_pago)/6)))[:len(fecha_pago)]\n",
    "\n",
    "# Create figure\n",
    "fig, ax = plt.subplots(figsize=(8.8, 4), constrained_layout=True)\n",
    "# put title\n",
    "ax.set(title=\"Histórico Pagos\")\n",
    "ax.plot(fecha_pago, np.zeros_like(fecha_pago), \"ro\",\n",
    "        color=\"k\", markerfacecolor=\"g\", label=\"Pagos históricos\")  \n",
    "\n",
    "ax.xaxis.set_major_locator(mdates.MonthLocator(interval=6))\n",
    "ax.xaxis.set_major_formatter(mdates.DateFormatter(\"%b %Y\"))\n",
    "plt.setp(ax.get_xticklabels(), rotation=30, ha=\"right\")\n",
    "\n",
    "# remove y axis and spines\n",
    "ax.yaxis.set_visible(False)\n",
    "ax.spines[\"left\"].set_visible(False)\n",
    "ax.spines[\"top\"].set_visible(False)\n",
    "ax.spines[\"right\"].set_visible(False)\n",
    "\n",
    "\n",
    "plt.legend()"
   ]
  },
  {
   "cell_type": "markdown",
   "id": "95355820-b37a-4f32-8592-bd14f8010393",
   "metadata": {},
   "source": [
    "La intención del programa será predecir en que fecha se realizará el siguiente pago, en simples terminos, en que momento del tiempo se ubicará el siguiente punto verde. Sin embargo aún faltan anotar todas las fechas completas para conmesurar y tener los datos de cada cuanto se hace el pago. Se crea un vector que contenga todos lops días desde el inicio del primer pago, hasta el ultimo registrado "
   ]
  },
  {
   "cell_type": "code",
   "execution_count": 126,
   "id": "59a4a445-846b-42b1-8537-bfefa279568e",
   "metadata": {},
   "outputs": [
    {
     "name": "stdout",
     "output_type": "stream",
     "text": [
      "Dias de vida del producto = 708\n",
      "Pago hechos = 24\n"
     ]
    }
   ],
   "source": [
    "first_pay = fecha_pago.min()\n",
    "last_pay  = fecha_pago.max() \n",
    "time_product = pd.date_range(first_pay, last_pay)\n",
    "print(\"Dias de vida del producto = {}\".format(len(time_product)))\n",
    "print(\"Pago hechos = {}\".format(len(fecha_pago)))"
   ]
  },
  {
   "cell_type": "markdown",
   "id": "886551a6-e062-4bf3-9381-2f6bb1038396",
   "metadata": {},
   "source": [
    "para poder evidenciar el pago, se debe crear un vector que registre cuando se hizo el pago y cuando no para tener claridad. Esto se hace creando un vector lleno de ceros y nada mas asigando uno cuando se tenga una fecha de pago. Adicional a esto se hace un mapeo de la fechas a un vector de etiquetas, es decir, se crea un vector alternativo que registra las fechas con numeros. Por ejemplo a la primera fecha registrada se le asigna el valor 1, a la siguiente el 2 y asi sucesivamente hasta completar los d'ias registrados en la base de datos "
   ]
  },
  {
   "cell_type": "code",
   "execution_count": 127,
   "id": "92c10633-7006-4218-9ea5-2b291faab18e",
   "metadata": {},
   "outputs": [
    {
     "data": {
      "image/png": "[encoded data removed]",
      "text/plain": [
       "<Figure size 1224x216 with 1 Axes>"
      ]
     },
     "metadata": {
      "needs_background": "light"
     },
     "output_type": "display_data"
    }
   ],
   "source": [
    "# vector de ceros \n",
    "pagos = np.zeros(len(time_product))\n",
    "#vector de etiqueta de tiempo \n",
    "labels_time = np.arange(len(time_product))\n",
    "# se identifican las fechas de pago dentro del vector de tiempo de vida del producto\n",
    "for i in range(len(fecha_pago)):\n",
    "    index_to_replace = np.where(time_product == fecha_pago.iloc[i])\n",
    "    pagos[index_to_replace] = 1\n",
    "\n",
    "fig, ax = plt.subplots(figsize=(17, 3), constrained_layout=True)\n",
    "ax.set(title=\"Comportamiento Pago en el tiempo\")\n",
    "ax.plot(labels_time, pagos, \"ro\", color=\"k\", markerfacecolor=\"g\", markersize=4)\n",
    "ax.xaxis.set_major_locator(mdates.MonthLocator(interval=6))\n",
    "ax.set_xlabel(\"Tiempo[días]\")\n",
    "ax.set_ylabel(\"Pago\")\n",
    "plt.grid(True)"
   ]
  },
  {
   "cell_type": "markdown",
   "id": "d736bca8-c213-4843-85a4-cf5a028c6ae6",
   "metadata": {},
   "source": [
    "En el orden de hacer la predicción se quiere hacer un forecasting de una serie de tiempo binaria, que me prediga el dia siguiente de pago teniendo en cuenta toda la historia anterior del comportamiento de este producto, respecto del día cero del producto. Para poder hacer testeo se requiere separar los últimos 30 días de pago como conjunto de validación. "
   ]
  },
  {
   "cell_type": "code",
   "execution_count": 128,
   "id": "6349bcc1-07bf-4506-bbef-c2914fd53174",
   "metadata": {},
   "outputs": [],
   "source": [
    "test_size = 90\n",
    "\n",
    "labels_time_train = labels_time[:-test_size]\n",
    "pagos_train = pagos[:-test_size]\n",
    "labels_time_test = labels_time[-test_size:]\n",
    "pagos_test = pagos[-test_size:]"
   ]
  },
  {
   "cell_type": "markdown",
   "id": "f84da29f-7b0b-4bfc-908c-592d5cdbba30",
   "metadata": {},
   "source": [
    "# Regresión con redes neuronales LSTM (Long Short-Term Memory Network)\n",
    "\n",
    "Tipo de red neuronal recurrente capaz de recordar la información pasada al predecir valores futuros, este tipo de arquitectura tiene en cuenta la información pasada. Mantiene un estado global que se mantiene en todas als entradas. Todo el contexto de la entrada anterior es básicamente transferido a entradas futuras por un estado global, esto hace que no sufa problemas de valores perdidos y inestabilidades numéricas.\n",
    "\n",
    "Veamos la decodificación ...\n",
    "\n",
    "<img src=\"decodificacion.png\"> \n",
    "\n",
    "* __Estado de celda:__ Se define como la capa de memoria que contiene el contexto del problema a través de las entradas \n",
    "\n",
    "* __Estado oculto:__ Capa de alimentación de salida de una capa anterior a una entrada más nueva\n",
    "\n",
    "* __Puerta de olvido:__ Decide si debido a la nueva $X$, debemos eliminar la memoria anterior de la red. Por ejemplo; \"Andrés es un niño. Andrea es una niña\".  Cuando se alimente el modelo con \"Andrea\" como entrada, se debe olvidar el contexto previo que se tenía sobre \"Andrés\".\n",
    "\n",
    "* __Puerta de entrada:__ Decide si debido a la nueva X, debemos actualizar la memoria anterior de la red\n",
    "\n",
    "* __Puerta de salida:__ Cada entrada debe dar una salida basada en la entrada actual, la salida de la capa anterior y la celda de la memoria persistente\n",
    "\n",
    "Este esquema presenta la red Neuronal resumida\n",
    "\n",
    "<img src=\"decodificacion.png\"> \n",
    "\n",
    "* __Puerta de olvido(cuadro amarillo):__ \n",
    "\n",
    "$$F=\\sigma(u_{1}X + \\omega_{1}\\hat{H})$$\n",
    "\n",
    "Para iniciar se debe tener en cuenta que en un problema de series temporales se tiene que predecir un valor en el tiempo $t$, basado en los días pasados $tN$ donde $N$ puede ser cualquier número de pasos. Se va a predecir el día de pago. Se van a probar diferentes pasos de tiempos para tratar de construir el mejor modelo posible.\n",
    "\n",
    "Se crea entonces los conjuntos de datos necesarios para entrenar el modelo. El conjunto de características debe contener los valores \n",
    "\n"
   ]
  },
  {
   "cell_type": "code",
   "execution_count": 129,
   "id": "b85f8d11-fe19-41b6-b47c-af9cb883247a",
   "metadata": {},
   "outputs": [
    {
     "data": {
      "text/plain": [
       "(90, 528)"
      ]
     },
     "execution_count": 129,
     "metadata": {},
     "output_type": "execute_result"
    }
   ],
   "source": [
    "features_set = list()\n",
    "labels = list()\n",
    "\n",
    "Nt = len(pagos_train)- test_size\n",
    "\n",
    "for i in range(Nt, len(pagos_train)):\n",
    "    features_set.append(pagos_train[i-Nt:i])\n",
    "    labels.append(pagos_train[i])\n",
    "\n",
    "features_set, labels = np.array(features_set), np.array(labels)\n",
    "features_set.shape"
   ]
  },
  {
   "cell_type": "markdown",
   "id": "53c286a9-bf3e-4fa2-a834-6d17b8286884",
   "metadata": {},
   "source": [
    "Para entrenar la red LSTM a pattir de estos datos, se necesita convertir los datos a una forma que la red Neuronal entienda. Esto es un tensor , un formato de matrices tridimensional. La primera dimensión es el número de registros o filas en el conjunto de datos "
   ]
  },
  {
   "cell_type": "code",
   "execution_count": 130,
   "id": "4eb52de6-df5a-48bc-bb09-865afb97bb81",
   "metadata": {},
   "outputs": [
    {
     "data": {
      "text/plain": [
       "(90, 528, 1)"
      ]
     },
     "execution_count": 130,
     "metadata": {},
     "output_type": "execute_result"
    }
   ],
   "source": [
    "features_set = np.reshape(features_set, (features_set.shape[0], features_set.shape[1], 1))\n",
    "features_set.shape"
   ]
  },
  {
   "cell_type": "markdown",
   "id": "41792c2a-367e-4778-b5e6-58cb36e506c1",
   "metadata": {},
   "source": [
    "Se han redimensionado los datos, en este momento se propone el modelo LSTM. El modelo que se va a crear es un modelo secuencial con múltiples capas, en principio se agregan cuatro capas LSTM al modelo seguida de una capa densa que predice el día futuro de pago."
   ]
  },
  {
   "cell_type": "code",
   "execution_count": 131,
   "id": "873260b4-46e7-435c-85cd-b5381b1b674d",
   "metadata": {},
   "outputs": [],
   "source": [
    "model = Sequential()\n",
    "model.add(LSTM(units=1, return_sequences=True, input_shape=(features_set.shape[1], 1)))\n",
    "model.add(Dropout(0.2))\n",
    "model.add(LSTM(units=2, return_sequences=True))\n",
    "model.add(Dropout(0.2))\n",
    "model.add(LSTM(units=7, return_sequences=True))\n",
    "model.add(Dropout(0.2))\n",
    "model.add(LSTM(units=15, return_sequences=True))\n",
    "model.add(Dropout(0.2))\n",
    "model.add(LSTM(units=30, return_sequences=False))\n",
    "model.add(Dropout(0.2))\n",
    "model.add(Dense(units = 1, activation=\"sigmoid\"))"
   ]
  },
  {
   "cell_type": "markdown",
   "id": "0d048416-7d55-4776-b3c0-f92285c35d4f",
   "metadata": {},
   "source": [
    "Ahora se compila el modelo, Se utiliza como función de pérdida el error medio cuadrado\n",
    "\n",
    "$$ECM = \\frac{1}{n}\\sum^{n}_{i=1}(\\hat{y}_{i}-y_{i})$$\n"
   ]
  },
  {
   "cell_type": "code",
   "execution_count": 132,
   "id": "d00b2203-0f09-407b-9af8-62e94cf55709",
   "metadata": {},
   "outputs": [],
   "source": [
    "model.compile(optimizer=\"adam\", loss=\"binary_crossentropy\", metrics=['accuracy'])\n"
   ]
  },
  {
   "cell_type": "markdown",
   "id": "6e985d25-ade7-4d30-8f64-d1f0ed848283",
   "metadata": {},
   "source": [
    "Ahora es el momento del entrenamiento del modelo que se definió anteriormente. Se hace una prueba para ver que tanto se demora el modelo "
   ]
  },
  {
   "cell_type": "code",
   "execution_count": 133,
   "id": "c663548d-bac3-459d-9e9a-e683a7ed05fe",
   "metadata": {},
   "outputs": [
    {
     "name": "stdout",
     "output_type": "stream",
     "text": [
      "Epoch 1/10\n",
      "90/90 [==============================] - 10s 112ms/step - loss: 0.6918 - accuracy: 0.5667\n",
      "Epoch 2/10\n",
      "90/90 [==============================] - 5s 60ms/step - loss: 0.6814 - accuracy: 0.9667\n",
      "Epoch 3/10\n",
      "90/90 [==============================] - 5s 60ms/step - loss: 0.6691 - accuracy: 0.9667\n",
      "Epoch 4/10\n",
      "90/90 [==============================] - 5s 60ms/step - loss: 0.6528 - accuracy: 0.9667\n",
      "Epoch 5/10\n",
      "90/90 [==============================] - 5s 60ms/step - loss: 0.6337 - accuracy: 0.9667\n",
      "Epoch 6/10\n",
      "90/90 [==============================] - 6s 61ms/step - loss: 0.6053 - accuracy: 0.9667\n",
      "Epoch 7/10\n",
      "90/90 [==============================] - 5s 59ms/step - loss: 0.5689 - accuracy: 0.9667\n",
      "Epoch 8/10\n",
      "90/90 [==============================] - 5s 58ms/step - loss: 0.5268 - accuracy: 0.9667\n",
      "Epoch 9/10\n",
      "90/90 [==============================] - 5s 58ms/step - loss: 0.4629 - accuracy: 0.9667\n",
      "Epoch 10/10\n",
      "90/90 [==============================] - 5s 59ms/step - loss: 0.3796 - accuracy: 0.9667\n"
     ]
    },
    {
     "data": {
      "text/plain": [
       "<keras.callbacks.callbacks.History at 0x7fa127814128>"
      ]
     },
     "execution_count": 133,
     "metadata": {},
     "output_type": "execute_result"
    }
   ],
   "source": [
    "model.fit(features_set, labels, epochs = 10, batch_size = 64)\n"
   ]
  },
  {
   "cell_type": "markdown",
   "id": "dc4cb67c-03e9-4e6d-bb8b-6b39a55824dd",
   "metadata": {},
   "source": [
    "Una vez entrenado el modelo LSTM, es el momento de probar el rendimiento de nuestro algoritmo en el conjunto de prueba al predecir los precios de pago en el siguiente mes, es decir, 30 días después del último día registrado en el conjunto de entrenamiento. Para cada día del mes siguiente que queremos predecir se debe tener los 120 días anteriores. Entonces se deben concatenar los datos de validación y de entrenamiento. \n",
    "\n",
    "Es importante anotar que para esta etapa de desarrollo se tienen los datos consignados en las variables iniciales de lectura, de otra manera si se tienen datos de testeo independientes se deben concatenar para tener el conjunto de datos completo y poder hacer la preparación adecuadoa para someter al modelo.\n",
    "\n",
    "Ahora se prepara las entradas al modelo de prueba. La entrada para cada día debe contener los datos de pago de 120 días anteriores y los 30 datos para la predicción, se constuye el vector con estos 150 valores"
   ]
  },
  {
   "cell_type": "code",
   "execution_count": 134,
   "id": "e7bab8f8-f653-4e8d-93a6-eb03b73a5b2d",
   "metadata": {},
   "outputs": [],
   "source": [
    "test_inputs = pagos[len(pagos) - len(pagos_test) - Nt:]\n",
    "test_inputs = test_inputs.reshape(-1,1)\n"
   ]
  },
  {
   "cell_type": "markdown",
   "id": "c3b3d5bd-a6c7-4d15-828f-36cca6f76a0e",
   "metadata": {},
   "source": [
    "Finalmente se prepara el conjunto de entrada del modelo de prueba final que contendrá los $Nt$ días anteriores del histórico para los siguientes 90 días."
   ]
  },
  {
   "cell_type": "code",
   "execution_count": 135,
   "id": "93da51d0-fb8e-4dbd-bc1f-cc1638ee8bb4",
   "metadata": {},
   "outputs": [],
   "source": [
    "test_features = list()\n",
    "for i in range(Nt, Nt+test_size):\n",
    "    test_features.append(test_inputs[i-Nt:i])\n",
    "\n",
    "test_features = np.array(test_features)\n",
    "test_features = np.reshape(test_features, (test_features.shape[0], test_features.shape[1], 1))"
   ]
  },
  {
   "cell_type": "markdown",
   "id": "5a32f619-bdb5-4052-b5ee-032ae83e3729",
   "metadata": {},
   "source": [
    "Ahora se hace la predicción de los datos prueba "
   ]
  },
  {
   "cell_type": "code",
   "execution_count": 136,
   "id": "7f2f00d3-9f39-4d47-8b54-ba0e9e3f926d",
   "metadata": {},
   "outputs": [],
   "source": [
    "predictions = model.predict_proba(test_features)"
   ]
  },
  {
   "cell_type": "markdown",
   "id": "a635b3ab-09e6-48f5-bd5e-ea5e5de080f1",
   "metadata": {},
   "source": [
    "Se hace una grafica que resuma las predicciones en 90 días y que clarifique las fechas que el modelo está haciendo predicción para los días mencionados anteriormente. "
   ]
  },
  {
   "cell_type": "code",
   "execution_count": 137,
   "id": "316f44de-7148-4d4b-9625-b521e1f4162e",
   "metadata": {},
   "outputs": [
    {
     "name": "stdout",
     "output_type": "stream",
     "text": [
      "Última fecha de fago registrada = 2020-04-05\n"
     ]
    },
    {
     "data": {
      "image/png": "[encoded data removed]",
      "text/plain": [
       "<Figure size 1080x360 with 1 Axes>"
      ]
     },
     "metadata": {
      "needs_background": "light"
     },
     "output_type": "display_data"
    }
   ],
   "source": [
    "fechas = time_product[-test_size:] + timedelta(days=test_size)\n",
    "fig, ax = plt.subplots(figsize=(15, 5), constrained_layout=True)\n",
    "plt.plot(fechas, predictions, \"b-\")\n",
    "plt.plot(fechas, predictions, \"b.\")\n",
    "\n",
    "if test_size == 30:\n",
    "    day1 = np.argmax(predictions[:30])\n",
    "    plt.plot(fechas[day1], predictions[day1], \"ro\",label = \"Día más probable de pago 1 = {}\".format(fechas[day1]),\n",
    "        color=\"k\", markerfacecolor=\"g\")\n",
    "if test_size == 60:\n",
    "    day1 = np.argmax(predictions[:30])\n",
    "    day2 = np.argmax(predictions[31:-1]) + 30\n",
    "    plt.plot(fechas[day1], predictions[day1], \"ro\",label = \"Día más probable de pago 1 = {}\".format(fechas[day1]),\n",
    "        color=\"k\", markerfacecolor=\"g\")\n",
    "    plt.plot(fechas[day2], predictions[day2], \"ro\",label = \"Día más probable de pago 2 = {}\".format(fechas[day2]),\n",
    "        color=\"k\", markerfacecolor=\"g\")\n",
    "if test_size == 90:\n",
    "    day1 = np.argmax(predictions[:30])\n",
    "    day2 = np.argmax(predictions[30:60]) + 30\n",
    "    day3 = np.argmax(predictions[60:-1]) + 60\n",
    "    plt.plot(fechas[day1], predictions[day1], \"ro\",label = \"Día más probable de pago 1 = {}\".format(fechas[day1].date()),\n",
    "        color=\"k\", markerfacecolor=\"g\")\n",
    "    plt.plot(fechas[day2], predictions[day2], \"ro\",label = \"Día más probable de pago 2 = {}\".format(fechas[day2].date()),\n",
    "        color=\"k\", markerfacecolor=\"g\")\n",
    "    plt.plot(fechas[day3], predictions[day3], \"ro\",label = \"Día más probable de pago 3 = {}\".format(fechas[day3].date()),\n",
    "        color=\"k\", markerfacecolor=\"g\")\n",
    "    \n",
    "plt.title(\"Predicción de pago contrato \"+str(int(producto_x)))\n",
    "plt.xlabel(\"Tiempo[Día]\")\n",
    "plt.ylabel(\"Probabilidad[En revisión]\")\n",
    "plt.grid(True)\n",
    "plt.legend()\n",
    "print(\"Última fecha de fago registrada = {}\".format(data[data[\"ID_CONTRATO\"]==producto_x][\"FECHA_PAGO\"].max().date()))"
   ]
  },
  {
   "cell_type": "markdown",
   "id": "7c2976a8-914d-41bd-a10e-f026db16b511",
   "metadata": {},
   "source": [
    "Se hace evidente que el modelo trata de capturar el comportamiento histórico del modelo. Sin embargo no se tiene generalidad al momento de encontrar máximos en esta predicción, por esta razón se hace necesario construir una rutina que encuentre los máximos locales.\n"
   ]
  },
  {
   "cell_type": "code",
   "execution_count": 138,
   "id": "d9baba49-7d59-4acc-bdf2-60e663fe7fb6",
   "metadata": {},
   "outputs": [
    {
     "name": "stdout",
     "output_type": "stream",
     "text": [
      "Última fecha de fago registrada = 2020-04-05\n"
     ]
    },
    {
     "data": {
      "image/png": "[encoded data removed]",
      "text/plain": [
       "<Figure size 1080x360 with 1 Axes>"
      ]
     },
     "metadata": {
      "needs_background": "light"
     },
     "output_type": "display_data"
    }
   ],
   "source": [
    "fechas = time_product[-test_size:] + timedelta(days=test_size)\n",
    "fig, ax = plt.subplots(figsize=(15, 5), constrained_layout=True)\n",
    "\n",
    "ind_max = argrelextrema(predictions, np.greater)[0]\n",
    "\n",
    "prefix = \"Día más probable de pago {} = \"\n",
    "prefix_date = [ prefix.format(i+1) for i in range(len(ind_max)) ]\n",
    "\n",
    "plt.plot(fechas, predictions, \"b-\")\n",
    "plt.plot(fechas, predictions, \"b.\")\n",
    "for i in range(len(ind_max)):\n",
    "    plt.plot(fechas[ind_max[i]], predictions[ind_max[i]], \"ro\",label=prefix_date[i]+ \"{}\".format(fechas[ind_max[i]].date()),\n",
    "        color=\"k\", markerfacecolor=\"g\")\n",
    "\n",
    "plt.title(\"Predicción de pago contrato \"+str(int(producto_x)))\n",
    "plt.xlabel(\"Tiempo[Día]\")\n",
    "plt.ylabel(\"Probabilidad[En revisión]\")\n",
    "plt.grid(True)\n",
    "plt.legend()\n",
    "print(\"Última fecha de fago registrada = {}\".format(data[data[\"ID_CONTRATO\"]==producto_x][\"FECHA_PAGO\"].max().date()))"
   ]
  },
  {
   "cell_type": "markdown",
   "id": "1670b3fc-a3c1-482b-a97f-54705d946d17",
   "metadata": {},
   "source": [
    "Se hace una grafica de linea temporal para ver si la predicción está acorde al comportamiento a través del tiempo de vida del producto"
   ]
  },
  {
   "cell_type": "code",
   "execution_count": 140,
   "id": "c0d4ef39-2c84-41f8-a645-d26eb2128c26",
   "metadata": {},
   "outputs": [
    {
     "data": {
      "text/plain": [
       "<matplotlib.legend.Legend at 0x7f9f6735e7b8>"
      ]
     },
     "execution_count": 140,
     "metadata": {},
     "output_type": "execute_result"
    },
    {
     "data": {
      "image/png": "[encoded data removed]",
      "text/plain": [
       "<Figure size 633.6x288 with 1 Axes>"
      ]
     },
     "metadata": {
      "needs_background": "light"
     },
     "output_type": "display_data"
    }
   ],
   "source": [
    "# Create figure\n",
    "fig, ax = plt.subplots(figsize=(8.8, 4), constrained_layout=True)\n",
    "# put title\n",
    "ax.set(title=\"Histórico Pagos\")\n",
    "ax.plot(fecha_pago, np.zeros_like(fecha_pago), \"ro\",\n",
    "        color=\"k\", markerfacecolor=\"g\", label=\"Ultimo pago = {}\".format(data[data[\"ID_CONTRATO\"]==producto_x][\"FECHA_PAGO\"].max().date())) \n",
    "\n",
    "\n",
    "for i in range(len(ind_max)):\n",
    "    ax.plot(fechas[ind_max[i]], np.zeros_like(fechas[ind_max[i]]), \"ro\",label=prefix_date[i]+ \"{}\".format(\n",
    "        \n",
    "        fechas[ind_max[i]].date()),\n",
    "        color=\"k\", markerfacecolor=\"b\")\n",
    "\n",
    "\n",
    "#ax.plot(fechas[day1], np.zeros_like(fechas[day1]), \"ro\",\n",
    "#        color=\"k\", markerfacecolor=\"b\", label=\"Predicción 1 = {}\".format(fechas[day1].date())) \n",
    "#ax.plot(fechas[day2], np.zeros_like(fechas[day2]), \"ro\",\n",
    "#        color=\"k\", markerfacecolor=\"b\", label=\"Predicción 2 = {}\".format(fechas[day2].date()))\n",
    "#ax.plot(fechas[day3], np.zeros_like(fechas[day3]), \"ro\",\n",
    "#        color=\"k\", markerfacecolor=\"b\", label=\"Predicción 3 = {}\".format(fechas[day3].date()))\n",
    "\n",
    "ax.xaxis.set_major_locator(mdates.MonthLocator(interval=6))\n",
    "ax.xaxis.set_major_formatter(mdates.DateFormatter(\"%b %Y\"))\n",
    "plt.setp(ax.get_xticklabels(), rotation=30, ha=\"right\")\n",
    "# remove y axis and spines\n",
    "ax.yaxis.set_visible(False)\n",
    "ax.spines[\"left\"].set_visible(False)\n",
    "ax.spines[\"top\"].set_visible(False)\n",
    "ax.spines[\"right\"].set_visible(False)\n",
    "\n",
    "plt.legend()"
   ]
  },
  {
   "cell_type": "markdown",
   "id": "37130ce6-42f2-491b-87c4-ed3fe6e2fe9e",
   "metadata": {},
   "source": [
    "Sin embargo aún no se sabe lo que para el algoritmo es un buen cliente, y se definira entonces en relación a la idea de un pago periodico. Para esto se propone utilizar el error cuadratico medio, que es la raíz cuadrada de la media del cuadrado de todos los errores. \n",
    "\n",
    "$$RMSE = \\sqrt{\\frac{1}{n}\\sum_{i=1}^{n}(\\hat{y}_{i}-y_{i})^{2}}$$\n",
    "\n",
    "en donde $\\hat{y}_{i}$ es la observación verdadera y $y_{i}$ es la predición, veamos el calculo del RMSE para un determinado cliente\n"
   ]
  },
  {
   "cell_type": "code",
   "execution_count": 141,
   "id": "fdecb846-1816-43ed-ade1-d6156535ccca",
   "metadata": {},
   "outputs": [
    {
     "name": "stdout",
     "output_type": "stream",
     "text": [
      "Cliente perfecto = 0\n",
      "Buen cliente = 24\n",
      "Puntaje cliente = 35\n",
      "Puntaje_predicho = 8\n"
     ]
    }
   ],
   "source": [
    "# Creacion de la fecha de pago sintética, es decir para esto se hace un vector de pagos periódicos tomando como referencia la primera fecha de pago del producto\n",
    "# y creando un vector de tamaño iguak que el tiempo de vida del producto \n",
    "first_pay = fecha_pago.min()\n",
    "last_pay  = fecha_pago.max()\n",
    "yhat = pd.date_range(fecha_pago.min(), periods=len(fecha_pago), freq=\"M\") -timedelta(days=8)\n",
    "# se debe organizar los datos de menor a mayor antigüedad\n",
    "y = fecha_pago.sort_values()\n",
    "n = len(y)\n",
    "\n",
    "def RMSE(yhat, y):\n",
    "    return np.sqrt((1/n)*(int(np.sum((yhat-y)).days))**2)\n",
    "\n",
    "puntaje_cleinte = RMSE(yhat, y)\n",
    "puntaje_perfecto = RMSE(yhat, yhat)\n",
    "puntaje_buencliente = RMSE(yhat, yhat + timedelta(days=5))\n",
    "\n",
    "aux_date_range = pd.date_range(fecha_pago.min(), periods=len(fecha_pago)+3, freq=\"M\").min().day\n",
    "yhat_pred = pd.date_range(fecha_pago.min(), periods=len(fecha_pago)+3, freq=\"M\") -timedelta(days=aux_date_range-fecha_pago.min().day)\n",
    "add_pagos = fecha_pago.sort_values()\n",
    "predicted_days = pd.Series([fechas[day1], fechas[day2], fechas[day3]])\n",
    "y_pred = add_pagos.append(predicted_days, ignore_index=True)\n",
    "\n",
    "puntaje_predicho = RMSE(yhat_pred, y_pred)\n",
    "print(\"Cliente perfecto = {:.0f}\".format(puntaje_perfecto))\n",
    "print(\"Buen cliente = {:.0f}\".format(puntaje_buencliente))\n",
    "print(\"Puntaje cliente = {:.0f}\".format(puntaje_cleinte))\n",
    "print(\"Puntaje_predicho = {:.0f}\".format(puntaje_predicho))\n",
    "\n",
    "if puntaje_predicho > puntaje_cleinte:\n",
    "    \n",
    "    print(\"El producto {} desmejorará su política de pago\".format(producto_x))\n",
    "\n",
    "    port = 587  \n",
    "    smtp_server = \"smtp.outlook.com\"\n",
    "    sender_email = \"johan.mendez@databiz.co\"  \n",
    "    receiver_email = \"jsmendezh@unal.edu.co\" \n",
    "    password = \"Databiz123@\"\n",
    "\n",
    "    message = \"\"\"\\\n",
    "    Subject: Aviso Pago\n",
    "\n",
    "    El Contrato {} segun la predicion del modelo va hacer pagos de la siguiente manera \n",
    "\n",
    "    Dia mas probable de pago 1 = {}\n",
    "\n",
    "    Dia mas probable de pago 2 = {}\n",
    "\n",
    "    \"\"\".format(int(producto_x), fechas[ind_max[0]].date(),fechas[ind_max[1]].date())\n",
    "\n",
    "    context = ssl.create_default_context()\n",
    "    print(\"contexto creado\")\n",
    "    with smtplib.SMTP(smtp_server, port) as server:\n",
    "        server.ehlo()  # Can be omitted\n",
    "        print(\"Empezando contexto\")\n",
    "        server.starttls(context=context)\n",
    "        server.ehlo()  # Can be omitted\n",
    "        print(\"Autenticando ...\")\n",
    "        server.login(sender_email, password)\n",
    "        print(\"Enviando ...\")\n",
    "        server.sendmail(sender_email, receiver_email, message)"
   ]
  },
  {
   "cell_type": "markdown",
   "id": "f8f5116d-7a61-4f43-b107-44e17c32127c",
   "metadata": {},
   "source": [
    "Entonces si el puntaje del cliente aumenta es candidato a contactarlo a través del canal de comunicación estipulado por la entidad"
   ]
  },
  {
   "cell_type": "code",
   "execution_count": null,
   "id": "0de06366-a06f-4915-af86-60b7d16e253f",
   "metadata": {},
   "outputs": [],
   "source": []
  }
 ],
 "metadata": {
  "kernelspec": {
   "display_name": "Python 3",
   "language": "python",
   "name": "python3"
  },
  "language_info": {
   "codemirror_mode": {
    "name": "ipython",
    "version": 3
   },
   "file_extension": ".py",
   "mimetype": "text/x-python",
   "name": "python",
   "nbconvert_exporter": "python",
   "pygments_lexer": "ipython3",
   "version": "3.6.13"
  }
 },
 "nbformat": 4,
 "nbformat_minor": 5
}
